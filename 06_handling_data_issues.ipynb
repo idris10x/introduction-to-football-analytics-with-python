{
  "cells": [
    {
      "cell_type": "markdown",
      "metadata": {
        "id": "M8w4ox9u7bLL"
      },
      "source": [
        "# Handling duplicate, missing, or invalid data\n",
        "\n",
        "## About the Data\n",
        "In this notebook, we will be working with FIFA players data for 2022 obtained from [Kaggle](https://www.kaggle.com/datasets/stefanoleone992/fifa-22-complete-player-dataset)\n",
        "\n",
        "## Setup\n",
        "We will be working with the `players_22.csv` file, so we need to handle our imports and read it in."
      ]
    },
    {
      "cell_type": "code",
      "execution_count": 14,
      "metadata": {
        "id": "jmwrsgj27bLk"
      },
      "outputs": [],
      "source": [
        "import pandas as pd"
      ]
    },
    {
      "cell_type": "code",
      "source": [
        "players = pd.read_csv(\n",
        "    'dirty_data.csv', \n",
        "    usecols=['short_name', 'wage_eur', 'age', 'club_name', 'nationality_name', 'preferred_foot']\n",
        ")"
      ],
      "metadata": {
        "id": "O2gAXXXy70NS"
      },
      "execution_count": 15,
      "outputs": []
    },
    {
      "cell_type": "markdown",
      "metadata": {
        "id": "UBq9PsLW7bLq"
      },
      "source": [
        "## Finding problematic data\n",
        "The `info()` method can pinpoint missing values and wrong data types:"
      ]
    },
    {
      "cell_type": "code",
      "execution_count": 17,
      "metadata": {
        "id": "tpqmX21t7bL0",
        "outputId": "9ed724e4-eb38-4ea2-f438-edf3305df6bd",
        "colab": {
          "base_uri": "https://localhost:8080/"
        }
      },
      "outputs": [
        {
          "output_type": "stream",
          "name": "stdout",
          "text": [
            "<class 'pandas.core.frame.DataFrame'>\n",
            "RangeIndex: 19265 entries, 0 to 19264\n",
            "Data columns (total 6 columns):\n",
            " #   Column            Non-Null Count  Dtype  \n",
            "---  ------            --------------  -----  \n",
            " 0   short_name        19265 non-null  object \n",
            " 1   wage_eur          19204 non-null  float64\n",
            " 2   age               19265 non-null  int64  \n",
            " 3   club_name         19204 non-null  object \n",
            " 4   nationality_name  19265 non-null  object \n",
            " 5   preferred_foot    19265 non-null  object \n",
            "dtypes: float64(1), int64(1), object(4)\n",
            "memory usage: 903.2+ KB\n"
          ]
        }
      ],
      "source": [
        "players.info()"
      ]
    },
    {
      "cell_type": "markdown",
      "metadata": {
        "id": "Yf4yBzOZ7bL3"
      },
      "source": [
        "We can use the `isna()`/`isnull()` method of the series to find nulls:"
      ]
    },
    {
      "cell_type": "code",
      "execution_count": 18,
      "metadata": {
        "id": "_W-qu0DJ7bL7"
      },
      "outputs": [],
      "source": [
        "contain_nulls = players[\n",
        "    players.short_name.isna() | players.wage_eur.isna() | players.age.isna()\n",
        "    | players.club_name.isna() | players.nationality_name.isna()\n",
        "    | players.preferred_foot.isna()\n",
        "]"
      ]
    },
    {
      "cell_type": "code",
      "source": [
        "contain_nulls.shape[0]"
      ],
      "metadata": {
        "colab": {
          "base_uri": "https://localhost:8080/"
        },
        "id": "y2EPZwZ05_6S",
        "outputId": "a50c2616-94da-49b2-b0f4-4a52a469c902"
      },
      "execution_count": 19,
      "outputs": [
        {
          "output_type": "execute_result",
          "data": {
            "text/plain": [
              "61"
            ]
          },
          "metadata": {},
          "execution_count": 19
        }
      ]
    },
    {
      "cell_type": "code",
      "execution_count": 20,
      "metadata": {
        "id": "8DLCIhMb7bL-",
        "outputId": "7c8110ef-4e65-4f71-cefb-d2c595bac11d",
        "colab": {
          "base_uri": "https://localhost:8080/",
          "height": 363
        }
      },
      "outputs": [
        {
          "output_type": "execute_result",
          "data": {
            "text/plain": [
              "           short_name  wage_eur  age club_name nationality_name preferred_foot\n",
              "147   T. Alderweireld       NaN   32       NaN          Belgium          Right\n",
              "416     G. Krychowiak       NaN   31       NaN           Poland          Right\n",
              "694         A. Dzyuba       NaN   32       NaN           Russia          Right\n",
              "926         M. Ozdoev       NaN   28       NaN           Russia          Right\n",
              "1146       Y. Zhirkov       NaN   37       NaN           Russia           Left\n",
              "1152        A. Shunin       NaN   34       NaN           Russia           Left\n",
              "1182      A. Dragović       NaN   30       NaN          Austria          Right\n",
              "1241        M. Borjan       NaN   33       NaN           Canada          Right\n",
              "1255      V. Claesson       NaN   29       NaN           Sweden          Right\n",
              "1759       D. Kuzyaev       NaN   28       NaN           Russia          Right"
            ],
            "text/html": [
              "\n",
              "  <div id=\"df-cd0f0e28-d7b8-4d40-bcad-728acbce37cb\">\n",
              "    <div class=\"colab-df-container\">\n",
              "      <div>\n",
              "<style scoped>\n",
              "    .dataframe tbody tr th:only-of-type {\n",
              "        vertical-align: middle;\n",
              "    }\n",
              "\n",
              "    .dataframe tbody tr th {\n",
              "        vertical-align: top;\n",
              "    }\n",
              "\n",
              "    .dataframe thead th {\n",
              "        text-align: right;\n",
              "    }\n",
              "</style>\n",
              "<table border=\"1\" class=\"dataframe\">\n",
              "  <thead>\n",
              "    <tr style=\"text-align: right;\">\n",
              "      <th></th>\n",
              "      <th>short_name</th>\n",
              "      <th>wage_eur</th>\n",
              "      <th>age</th>\n",
              "      <th>club_name</th>\n",
              "      <th>nationality_name</th>\n",
              "      <th>preferred_foot</th>\n",
              "    </tr>\n",
              "  </thead>\n",
              "  <tbody>\n",
              "    <tr>\n",
              "      <th>147</th>\n",
              "      <td>T. Alderweireld</td>\n",
              "      <td>NaN</td>\n",
              "      <td>32</td>\n",
              "      <td>NaN</td>\n",
              "      <td>Belgium</td>\n",
              "      <td>Right</td>\n",
              "    </tr>\n",
              "    <tr>\n",
              "      <th>416</th>\n",
              "      <td>G. Krychowiak</td>\n",
              "      <td>NaN</td>\n",
              "      <td>31</td>\n",
              "      <td>NaN</td>\n",
              "      <td>Poland</td>\n",
              "      <td>Right</td>\n",
              "    </tr>\n",
              "    <tr>\n",
              "      <th>694</th>\n",
              "      <td>A. Dzyuba</td>\n",
              "      <td>NaN</td>\n",
              "      <td>32</td>\n",
              "      <td>NaN</td>\n",
              "      <td>Russia</td>\n",
              "      <td>Right</td>\n",
              "    </tr>\n",
              "    <tr>\n",
              "      <th>926</th>\n",
              "      <td>M. Ozdoev</td>\n",
              "      <td>NaN</td>\n",
              "      <td>28</td>\n",
              "      <td>NaN</td>\n",
              "      <td>Russia</td>\n",
              "      <td>Right</td>\n",
              "    </tr>\n",
              "    <tr>\n",
              "      <th>1146</th>\n",
              "      <td>Y. Zhirkov</td>\n",
              "      <td>NaN</td>\n",
              "      <td>37</td>\n",
              "      <td>NaN</td>\n",
              "      <td>Russia</td>\n",
              "      <td>Left</td>\n",
              "    </tr>\n",
              "    <tr>\n",
              "      <th>1152</th>\n",
              "      <td>A. Shunin</td>\n",
              "      <td>NaN</td>\n",
              "      <td>34</td>\n",
              "      <td>NaN</td>\n",
              "      <td>Russia</td>\n",
              "      <td>Left</td>\n",
              "    </tr>\n",
              "    <tr>\n",
              "      <th>1182</th>\n",
              "      <td>A. Dragović</td>\n",
              "      <td>NaN</td>\n",
              "      <td>30</td>\n",
              "      <td>NaN</td>\n",
              "      <td>Austria</td>\n",
              "      <td>Right</td>\n",
              "    </tr>\n",
              "    <tr>\n",
              "      <th>1241</th>\n",
              "      <td>M. Borjan</td>\n",
              "      <td>NaN</td>\n",
              "      <td>33</td>\n",
              "      <td>NaN</td>\n",
              "      <td>Canada</td>\n",
              "      <td>Right</td>\n",
              "    </tr>\n",
              "    <tr>\n",
              "      <th>1255</th>\n",
              "      <td>V. Claesson</td>\n",
              "      <td>NaN</td>\n",
              "      <td>29</td>\n",
              "      <td>NaN</td>\n",
              "      <td>Sweden</td>\n",
              "      <td>Right</td>\n",
              "    </tr>\n",
              "    <tr>\n",
              "      <th>1759</th>\n",
              "      <td>D. Kuzyaev</td>\n",
              "      <td>NaN</td>\n",
              "      <td>28</td>\n",
              "      <td>NaN</td>\n",
              "      <td>Russia</td>\n",
              "      <td>Right</td>\n",
              "    </tr>\n",
              "  </tbody>\n",
              "</table>\n",
              "</div>\n",
              "      <button class=\"colab-df-convert\" onclick=\"convertToInteractive('df-cd0f0e28-d7b8-4d40-bcad-728acbce37cb')\"\n",
              "              title=\"Convert this dataframe to an interactive table.\"\n",
              "              style=\"display:none;\">\n",
              "        \n",
              "  <svg xmlns=\"http://www.w3.org/2000/svg\" height=\"24px\"viewBox=\"0 0 24 24\"\n",
              "       width=\"24px\">\n",
              "    <path d=\"M0 0h24v24H0V0z\" fill=\"none\"/>\n",
              "    <path d=\"M18.56 5.44l.94 2.06.94-2.06 2.06-.94-2.06-.94-.94-2.06-.94 2.06-2.06.94zm-11 1L8.5 8.5l.94-2.06 2.06-.94-2.06-.94L8.5 2.5l-.94 2.06-2.06.94zm10 10l.94 2.06.94-2.06 2.06-.94-2.06-.94-.94-2.06-.94 2.06-2.06.94z\"/><path d=\"M17.41 7.96l-1.37-1.37c-.4-.4-.92-.59-1.43-.59-.52 0-1.04.2-1.43.59L10.3 9.45l-7.72 7.72c-.78.78-.78 2.05 0 2.83L4 21.41c.39.39.9.59 1.41.59.51 0 1.02-.2 1.41-.59l7.78-7.78 2.81-2.81c.8-.78.8-2.07 0-2.86zM5.41 20L4 18.59l7.72-7.72 1.47 1.35L5.41 20z\"/>\n",
              "  </svg>\n",
              "      </button>\n",
              "      \n",
              "  <style>\n",
              "    .colab-df-container {\n",
              "      display:flex;\n",
              "      flex-wrap:wrap;\n",
              "      gap: 12px;\n",
              "    }\n",
              "\n",
              "    .colab-df-convert {\n",
              "      background-color: #E8F0FE;\n",
              "      border: none;\n",
              "      border-radius: 50%;\n",
              "      cursor: pointer;\n",
              "      display: none;\n",
              "      fill: #1967D2;\n",
              "      height: 32px;\n",
              "      padding: 0 0 0 0;\n",
              "      width: 32px;\n",
              "    }\n",
              "\n",
              "    .colab-df-convert:hover {\n",
              "      background-color: #E2EBFA;\n",
              "      box-shadow: 0px 1px 2px rgba(60, 64, 67, 0.3), 0px 1px 3px 1px rgba(60, 64, 67, 0.15);\n",
              "      fill: #174EA6;\n",
              "    }\n",
              "\n",
              "    [theme=dark] .colab-df-convert {\n",
              "      background-color: #3B4455;\n",
              "      fill: #D2E3FC;\n",
              "    }\n",
              "\n",
              "    [theme=dark] .colab-df-convert:hover {\n",
              "      background-color: #434B5C;\n",
              "      box-shadow: 0px 1px 3px 1px rgba(0, 0, 0, 0.15);\n",
              "      filter: drop-shadow(0px 1px 2px rgba(0, 0, 0, 0.3));\n",
              "      fill: #FFFFFF;\n",
              "    }\n",
              "  </style>\n",
              "\n",
              "      <script>\n",
              "        const buttonEl =\n",
              "          document.querySelector('#df-cd0f0e28-d7b8-4d40-bcad-728acbce37cb button.colab-df-convert');\n",
              "        buttonEl.style.display =\n",
              "          google.colab.kernel.accessAllowed ? 'block' : 'none';\n",
              "\n",
              "        async function convertToInteractive(key) {\n",
              "          const element = document.querySelector('#df-cd0f0e28-d7b8-4d40-bcad-728acbce37cb');\n",
              "          const dataTable =\n",
              "            await google.colab.kernel.invokeFunction('convertToInteractive',\n",
              "                                                     [key], {});\n",
              "          if (!dataTable) return;\n",
              "\n",
              "          const docLinkHtml = 'Like what you see? Visit the ' +\n",
              "            '<a target=\"_blank\" href=https://colab.research.google.com/notebooks/data_table.ipynb>data table notebook</a>'\n",
              "            + ' to learn more about interactive tables.';\n",
              "          element.innerHTML = '';\n",
              "          dataTable['output_type'] = 'display_data';\n",
              "          await google.colab.output.renderOutput(dataTable, element);\n",
              "          const docLink = document.createElement('div');\n",
              "          docLink.innerHTML = docLinkHtml;\n",
              "          element.appendChild(docLink);\n",
              "        }\n",
              "      </script>\n",
              "    </div>\n",
              "  </div>\n",
              "  "
            ]
          },
          "metadata": {},
          "execution_count": 20
        }
      ],
      "source": [
        "contain_nulls.head(10)"
      ]
    },
    {
      "cell_type": "markdown",
      "metadata": {
        "id": "TpzYGpjT7bMR"
      },
      "source": [
        "We can use the `duplicated()` method to find duplicate rows:"
      ]
    },
    {
      "cell_type": "code",
      "execution_count": 21,
      "metadata": {
        "id": "C4oAM0OG7bMS",
        "outputId": "cf073e4c-ab44-4741-8aab-24ff993df7ce",
        "colab": {
          "base_uri": "https://localhost:8080/"
        }
      },
      "outputs": [
        {
          "output_type": "execute_result",
          "data": {
            "text/plain": [
              "26"
            ]
          },
          "metadata": {},
          "execution_count": 21
        }
      ],
      "source": [
        "players.duplicated().sum()"
      ]
    },
    {
      "cell_type": "markdown",
      "source": [
        "The default for keep is 'first' meaning it won't show the first row that the duplicated data was seen in; we can pass in False to see it:"
      ],
      "metadata": {
        "id": "7fUMpSBrAr47"
      }
    },
    {
      "cell_type": "code",
      "source": [
        "players.duplicated(keep=False).sum()"
      ],
      "metadata": {
        "colab": {
          "base_uri": "https://localhost:8080/"
        },
        "id": "kQ0kJhnfAt5m",
        "outputId": "a611179e-7516-40e4-f400-bcfc1b14ee57"
      },
      "execution_count": 22,
      "outputs": [
        {
          "output_type": "execute_result",
          "data": {
            "text/plain": [
              "52"
            ]
          },
          "metadata": {},
          "execution_count": 22
        }
      ]
    },
    {
      "cell_type": "markdown",
      "source": [
        "Let's look at a few duplicates:"
      ],
      "metadata": {
        "id": "4RrljNKcBzOs"
      }
    },
    {
      "cell_type": "code",
      "source": [
        "players[players.duplicated()].head()"
      ],
      "metadata": {
        "colab": {
          "base_uri": "https://localhost:8080/",
          "height": 206
        },
        "id": "hSJa8_UPBqZh",
        "outputId": "b36e89b9-e260-47eb-8325-54d1aab8b481"
      },
      "execution_count": 23,
      "outputs": [
        {
          "output_type": "execute_result",
          "data": {
            "text/plain": [
              "              short_name  wage_eur  age                          club_name  \\\n",
              "19239         Yang Haoyu    1000.0   20  Dalian Professional Football Club   \n",
              "19240           R. Mahon     500.0   18                        Bohemian FC   \n",
              "19241           S. Black     500.0   19                         Finn Harps   \n",
              "19242  H. Wiles-Richards    1000.0   19                       Bristol City   \n",
              "19243         J. Affonso     500.0   23            Cerro Largo Fútbol Club   \n",
              "\n",
              "          nationality_name preferred_foot  \n",
              "19239             China PR          Right  \n",
              "19240  Republic of Ireland           Left  \n",
              "19241  Republic of Ireland          Right  \n",
              "19242              England          Right  \n",
              "19243              Uruguay          Right  "
            ],
            "text/html": [
              "\n",
              "  <div id=\"df-8766e98c-40be-4795-9235-22d8c159168d\">\n",
              "    <div class=\"colab-df-container\">\n",
              "      <div>\n",
              "<style scoped>\n",
              "    .dataframe tbody tr th:only-of-type {\n",
              "        vertical-align: middle;\n",
              "    }\n",
              "\n",
              "    .dataframe tbody tr th {\n",
              "        vertical-align: top;\n",
              "    }\n",
              "\n",
              "    .dataframe thead th {\n",
              "        text-align: right;\n",
              "    }\n",
              "</style>\n",
              "<table border=\"1\" class=\"dataframe\">\n",
              "  <thead>\n",
              "    <tr style=\"text-align: right;\">\n",
              "      <th></th>\n",
              "      <th>short_name</th>\n",
              "      <th>wage_eur</th>\n",
              "      <th>age</th>\n",
              "      <th>club_name</th>\n",
              "      <th>nationality_name</th>\n",
              "      <th>preferred_foot</th>\n",
              "    </tr>\n",
              "  </thead>\n",
              "  <tbody>\n",
              "    <tr>\n",
              "      <th>19239</th>\n",
              "      <td>Yang Haoyu</td>\n",
              "      <td>1000.0</td>\n",
              "      <td>20</td>\n",
              "      <td>Dalian Professional Football Club</td>\n",
              "      <td>China PR</td>\n",
              "      <td>Right</td>\n",
              "    </tr>\n",
              "    <tr>\n",
              "      <th>19240</th>\n",
              "      <td>R. Mahon</td>\n",
              "      <td>500.0</td>\n",
              "      <td>18</td>\n",
              "      <td>Bohemian FC</td>\n",
              "      <td>Republic of Ireland</td>\n",
              "      <td>Left</td>\n",
              "    </tr>\n",
              "    <tr>\n",
              "      <th>19241</th>\n",
              "      <td>S. Black</td>\n",
              "      <td>500.0</td>\n",
              "      <td>19</td>\n",
              "      <td>Finn Harps</td>\n",
              "      <td>Republic of Ireland</td>\n",
              "      <td>Right</td>\n",
              "    </tr>\n",
              "    <tr>\n",
              "      <th>19242</th>\n",
              "      <td>H. Wiles-Richards</td>\n",
              "      <td>1000.0</td>\n",
              "      <td>19</td>\n",
              "      <td>Bristol City</td>\n",
              "      <td>England</td>\n",
              "      <td>Right</td>\n",
              "    </tr>\n",
              "    <tr>\n",
              "      <th>19243</th>\n",
              "      <td>J. Affonso</td>\n",
              "      <td>500.0</td>\n",
              "      <td>23</td>\n",
              "      <td>Cerro Largo Fútbol Club</td>\n",
              "      <td>Uruguay</td>\n",
              "      <td>Right</td>\n",
              "    </tr>\n",
              "  </tbody>\n",
              "</table>\n",
              "</div>\n",
              "      <button class=\"colab-df-convert\" onclick=\"convertToInteractive('df-8766e98c-40be-4795-9235-22d8c159168d')\"\n",
              "              title=\"Convert this dataframe to an interactive table.\"\n",
              "              style=\"display:none;\">\n",
              "        \n",
              "  <svg xmlns=\"http://www.w3.org/2000/svg\" height=\"24px\"viewBox=\"0 0 24 24\"\n",
              "       width=\"24px\">\n",
              "    <path d=\"M0 0h24v24H0V0z\" fill=\"none\"/>\n",
              "    <path d=\"M18.56 5.44l.94 2.06.94-2.06 2.06-.94-2.06-.94-.94-2.06-.94 2.06-2.06.94zm-11 1L8.5 8.5l.94-2.06 2.06-.94-2.06-.94L8.5 2.5l-.94 2.06-2.06.94zm10 10l.94 2.06.94-2.06 2.06-.94-2.06-.94-.94-2.06-.94 2.06-2.06.94z\"/><path d=\"M17.41 7.96l-1.37-1.37c-.4-.4-.92-.59-1.43-.59-.52 0-1.04.2-1.43.59L10.3 9.45l-7.72 7.72c-.78.78-.78 2.05 0 2.83L4 21.41c.39.39.9.59 1.41.59.51 0 1.02-.2 1.41-.59l7.78-7.78 2.81-2.81c.8-.78.8-2.07 0-2.86zM5.41 20L4 18.59l7.72-7.72 1.47 1.35L5.41 20z\"/>\n",
              "  </svg>\n",
              "      </button>\n",
              "      \n",
              "  <style>\n",
              "    .colab-df-container {\n",
              "      display:flex;\n",
              "      flex-wrap:wrap;\n",
              "      gap: 12px;\n",
              "    }\n",
              "\n",
              "    .colab-df-convert {\n",
              "      background-color: #E8F0FE;\n",
              "      border: none;\n",
              "      border-radius: 50%;\n",
              "      cursor: pointer;\n",
              "      display: none;\n",
              "      fill: #1967D2;\n",
              "      height: 32px;\n",
              "      padding: 0 0 0 0;\n",
              "      width: 32px;\n",
              "    }\n",
              "\n",
              "    .colab-df-convert:hover {\n",
              "      background-color: #E2EBFA;\n",
              "      box-shadow: 0px 1px 2px rgba(60, 64, 67, 0.3), 0px 1px 3px 1px rgba(60, 64, 67, 0.15);\n",
              "      fill: #174EA6;\n",
              "    }\n",
              "\n",
              "    [theme=dark] .colab-df-convert {\n",
              "      background-color: #3B4455;\n",
              "      fill: #D2E3FC;\n",
              "    }\n",
              "\n",
              "    [theme=dark] .colab-df-convert:hover {\n",
              "      background-color: #434B5C;\n",
              "      box-shadow: 0px 1px 3px 1px rgba(0, 0, 0, 0.15);\n",
              "      filter: drop-shadow(0px 1px 2px rgba(0, 0, 0, 0.3));\n",
              "      fill: #FFFFFF;\n",
              "    }\n",
              "  </style>\n",
              "\n",
              "      <script>\n",
              "        const buttonEl =\n",
              "          document.querySelector('#df-8766e98c-40be-4795-9235-22d8c159168d button.colab-df-convert');\n",
              "        buttonEl.style.display =\n",
              "          google.colab.kernel.accessAllowed ? 'block' : 'none';\n",
              "\n",
              "        async function convertToInteractive(key) {\n",
              "          const element = document.querySelector('#df-8766e98c-40be-4795-9235-22d8c159168d');\n",
              "          const dataTable =\n",
              "            await google.colab.kernel.invokeFunction('convertToInteractive',\n",
              "                                                     [key], {});\n",
              "          if (!dataTable) return;\n",
              "\n",
              "          const docLinkHtml = 'Like what you see? Visit the ' +\n",
              "            '<a target=\"_blank\" href=https://colab.research.google.com/notebooks/data_table.ipynb>data table notebook</a>'\n",
              "            + ' to learn more about interactive tables.';\n",
              "          element.innerHTML = '';\n",
              "          dataTable['output_type'] = 'display_data';\n",
              "          await google.colab.output.renderOutput(dataTable, element);\n",
              "          const docLink = document.createElement('div');\n",
              "          docLink.innerHTML = docLinkHtml;\n",
              "          element.appendChild(docLink);\n",
              "        }\n",
              "      </script>\n",
              "    </div>\n",
              "  </div>\n",
              "  "
            ]
          },
          "metadata": {},
          "execution_count": 23
        }
      ]
    },
    {
      "cell_type": "markdown",
      "metadata": {
        "id": "zD-aDFSZ7bMY"
      },
      "source": [
        "## Mitigating Issues\n",
        "\n",
        "### Handling duplicated data\n",
        "When dealing with duplicate data, we need to think of the ramifications of removing it. If we determine it won't impact our analysis, we can use `drop_duplicates()` to remove them:"
      ]
    },
    {
      "cell_type": "code",
      "source": [
        "pl_clean = players.drop_duplicates()"
      ],
      "metadata": {
        "id": "077fhxxTCP6K"
      },
      "execution_count": 24,
      "outputs": []
    },
    {
      "cell_type": "code",
      "source": [
        "pl_clean.duplicated().sum()"
      ],
      "metadata": {
        "colab": {
          "base_uri": "https://localhost:8080/"
        },
        "id": "Bju8RZTqCreW",
        "outputId": "beffeef3-9a46-464e-fb77-bdbc9ea500ef"
      },
      "execution_count": 25,
      "outputs": [
        {
          "output_type": "execute_result",
          "data": {
            "text/plain": [
              "0"
            ]
          },
          "metadata": {},
          "execution_count": 25
        }
      ]
    },
    {
      "cell_type": "markdown",
      "metadata": {
        "id": "DtB99ViY7bMf"
      },
      "source": [
        "### Dealing with nulls\n",
        "We could drop nulls, replace them with some arbitrary value, or impute them using the surrounding data. Each of these options may have ramifications, so we must choose wisely.\n",
        "\n",
        "We can use `dropna()` to drop rows where any column has a null value:"
      ]
    },
    {
      "cell_type": "code",
      "execution_count": 26,
      "metadata": {
        "id": "DaHwWB3K7bMg",
        "outputId": "8623a283-2af5-476d-b5df-4bdf45e2d70e",
        "colab": {
          "base_uri": "https://localhost:8080/"
        }
      },
      "outputs": [
        {
          "output_type": "execute_result",
          "data": {
            "text/plain": [
              "(19178, 6)"
            ]
          },
          "metadata": {},
          "execution_count": 26
        }
      ],
      "source": [
        "pl_clean.dropna().shape"
      ]
    },
    {
      "cell_type": "markdown",
      "metadata": {
        "id": "s4AhA9WR7bMh"
      },
      "source": [
        "If we pass `how='all'`, we can choose to only drop rows where everything is null, but this removes nothing:"
      ]
    },
    {
      "cell_type": "code",
      "execution_count": 27,
      "metadata": {
        "id": "wgp3ZrXn7bMj",
        "outputId": "7e3887ec-a6a1-4c4a-c98d-2203fcf72c92",
        "colab": {
          "base_uri": "https://localhost:8080/"
        }
      },
      "outputs": [
        {
          "output_type": "execute_result",
          "data": {
            "text/plain": [
              "(19239, 6)"
            ]
          },
          "metadata": {},
          "execution_count": 27
        }
      ],
      "source": [
        "pl_clean.dropna(how='all').shape"
      ]
    },
    {
      "cell_type": "markdown",
      "metadata": {
        "id": "AoysRO2K7bMj"
      },
      "source": [
        "We can use just a subset of columns to determine what to drop with the `subset` argument:"
      ]
    },
    {
      "cell_type": "code",
      "execution_count": 28,
      "metadata": {
        "id": "G7n7lTLS7bMk",
        "outputId": "46b54c05-5e48-460e-8ad0-0c7c34123e9b",
        "colab": {
          "base_uri": "https://localhost:8080/"
        }
      },
      "outputs": [
        {
          "output_type": "execute_result",
          "data": {
            "text/plain": [
              "(19178, 6)"
            ]
          },
          "metadata": {},
          "execution_count": 28
        }
      ],
      "source": [
        "pl_clean.dropna(\n",
        "    how='all', subset=['wage_eur', 'club_name']\n",
        ").shape"
      ]
    },
    {
      "cell_type": "markdown",
      "metadata": {
        "id": "u6RENXId7bMl"
      },
      "source": [
        "This can also be performed along columns, and we can also require a certain number of null values before we drop the data:"
      ]
    },
    {
      "cell_type": "code",
      "execution_count": 29,
      "metadata": {
        "id": "7fAr4bTp7bMl",
        "outputId": "b72f167c-bd11-4ed1-b130-f37cfcac10f8",
        "colab": {
          "base_uri": "https://localhost:8080/"
        }
      },
      "outputs": [
        {
          "output_type": "execute_result",
          "data": {
            "text/plain": [
              "(19239, 6)"
            ]
          },
          "metadata": {},
          "execution_count": 29
        }
      ],
      "source": [
        "pl_clean.dropna(axis='columns', thresh=pl_clean.shape[0] * .75).shape"
      ]
    },
    {
      "cell_type": "markdown",
      "metadata": {
        "id": "lNEs88747bMm"
      },
      "source": [
        "We can choose to fill in the null values instead with `fillna()`:"
      ]
    },
    {
      "cell_type": "code",
      "source": [
        "pl_clean.assign(\n",
        "    club_name = pl_clean.club_name.fillna('unknown'),\n",
        "    wage_eur = pl_clean.wage_eur.fillna(0)\n",
        ").loc[[147, 416, 694, 926, 1146], :]"
      ],
      "metadata": {
        "colab": {
          "base_uri": "https://localhost:8080/",
          "height": 206
        },
        "id": "ZNkuboTKJRMq",
        "outputId": "0d794d2e-8616-4504-fc15-68392a2fc0b6"
      },
      "execution_count": 34,
      "outputs": [
        {
          "output_type": "execute_result",
          "data": {
            "text/plain": [
              "           short_name  wage_eur  age club_name nationality_name preferred_foot\n",
              "147   T. Alderweireld       0.0   32   unknown          Belgium          Right\n",
              "416     G. Krychowiak       0.0   31   unknown           Poland          Right\n",
              "694         A. Dzyuba       0.0   32   unknown           Russia          Right\n",
              "926         M. Ozdoev       0.0   28   unknown           Russia          Right\n",
              "1146       Y. Zhirkov       0.0   37   unknown           Russia           Left"
            ],
            "text/html": [
              "\n",
              "  <div id=\"df-00716112-b4c6-46a3-b215-34f16fb774f2\">\n",
              "    <div class=\"colab-df-container\">\n",
              "      <div>\n",
              "<style scoped>\n",
              "    .dataframe tbody tr th:only-of-type {\n",
              "        vertical-align: middle;\n",
              "    }\n",
              "\n",
              "    .dataframe tbody tr th {\n",
              "        vertical-align: top;\n",
              "    }\n",
              "\n",
              "    .dataframe thead th {\n",
              "        text-align: right;\n",
              "    }\n",
              "</style>\n",
              "<table border=\"1\" class=\"dataframe\">\n",
              "  <thead>\n",
              "    <tr style=\"text-align: right;\">\n",
              "      <th></th>\n",
              "      <th>short_name</th>\n",
              "      <th>wage_eur</th>\n",
              "      <th>age</th>\n",
              "      <th>club_name</th>\n",
              "      <th>nationality_name</th>\n",
              "      <th>preferred_foot</th>\n",
              "    </tr>\n",
              "  </thead>\n",
              "  <tbody>\n",
              "    <tr>\n",
              "      <th>147</th>\n",
              "      <td>T. Alderweireld</td>\n",
              "      <td>0.0</td>\n",
              "      <td>32</td>\n",
              "      <td>unknown</td>\n",
              "      <td>Belgium</td>\n",
              "      <td>Right</td>\n",
              "    </tr>\n",
              "    <tr>\n",
              "      <th>416</th>\n",
              "      <td>G. Krychowiak</td>\n",
              "      <td>0.0</td>\n",
              "      <td>31</td>\n",
              "      <td>unknown</td>\n",
              "      <td>Poland</td>\n",
              "      <td>Right</td>\n",
              "    </tr>\n",
              "    <tr>\n",
              "      <th>694</th>\n",
              "      <td>A. Dzyuba</td>\n",
              "      <td>0.0</td>\n",
              "      <td>32</td>\n",
              "      <td>unknown</td>\n",
              "      <td>Russia</td>\n",
              "      <td>Right</td>\n",
              "    </tr>\n",
              "    <tr>\n",
              "      <th>926</th>\n",
              "      <td>M. Ozdoev</td>\n",
              "      <td>0.0</td>\n",
              "      <td>28</td>\n",
              "      <td>unknown</td>\n",
              "      <td>Russia</td>\n",
              "      <td>Right</td>\n",
              "    </tr>\n",
              "    <tr>\n",
              "      <th>1146</th>\n",
              "      <td>Y. Zhirkov</td>\n",
              "      <td>0.0</td>\n",
              "      <td>37</td>\n",
              "      <td>unknown</td>\n",
              "      <td>Russia</td>\n",
              "      <td>Left</td>\n",
              "    </tr>\n",
              "  </tbody>\n",
              "</table>\n",
              "</div>\n",
              "      <button class=\"colab-df-convert\" onclick=\"convertToInteractive('df-00716112-b4c6-46a3-b215-34f16fb774f2')\"\n",
              "              title=\"Convert this dataframe to an interactive table.\"\n",
              "              style=\"display:none;\">\n",
              "        \n",
              "  <svg xmlns=\"http://www.w3.org/2000/svg\" height=\"24px\"viewBox=\"0 0 24 24\"\n",
              "       width=\"24px\">\n",
              "    <path d=\"M0 0h24v24H0V0z\" fill=\"none\"/>\n",
              "    <path d=\"M18.56 5.44l.94 2.06.94-2.06 2.06-.94-2.06-.94-.94-2.06-.94 2.06-2.06.94zm-11 1L8.5 8.5l.94-2.06 2.06-.94-2.06-.94L8.5 2.5l-.94 2.06-2.06.94zm10 10l.94 2.06.94-2.06 2.06-.94-2.06-.94-.94-2.06-.94 2.06-2.06.94z\"/><path d=\"M17.41 7.96l-1.37-1.37c-.4-.4-.92-.59-1.43-.59-.52 0-1.04.2-1.43.59L10.3 9.45l-7.72 7.72c-.78.78-.78 2.05 0 2.83L4 21.41c.39.39.9.59 1.41.59.51 0 1.02-.2 1.41-.59l7.78-7.78 2.81-2.81c.8-.78.8-2.07 0-2.86zM5.41 20L4 18.59l7.72-7.72 1.47 1.35L5.41 20z\"/>\n",
              "  </svg>\n",
              "      </button>\n",
              "      \n",
              "  <style>\n",
              "    .colab-df-container {\n",
              "      display:flex;\n",
              "      flex-wrap:wrap;\n",
              "      gap: 12px;\n",
              "    }\n",
              "\n",
              "    .colab-df-convert {\n",
              "      background-color: #E8F0FE;\n",
              "      border: none;\n",
              "      border-radius: 50%;\n",
              "      cursor: pointer;\n",
              "      display: none;\n",
              "      fill: #1967D2;\n",
              "      height: 32px;\n",
              "      padding: 0 0 0 0;\n",
              "      width: 32px;\n",
              "    }\n",
              "\n",
              "    .colab-df-convert:hover {\n",
              "      background-color: #E2EBFA;\n",
              "      box-shadow: 0px 1px 2px rgba(60, 64, 67, 0.3), 0px 1px 3px 1px rgba(60, 64, 67, 0.15);\n",
              "      fill: #174EA6;\n",
              "    }\n",
              "\n",
              "    [theme=dark] .colab-df-convert {\n",
              "      background-color: #3B4455;\n",
              "      fill: #D2E3FC;\n",
              "    }\n",
              "\n",
              "    [theme=dark] .colab-df-convert:hover {\n",
              "      background-color: #434B5C;\n",
              "      box-shadow: 0px 1px 3px 1px rgba(0, 0, 0, 0.15);\n",
              "      filter: drop-shadow(0px 1px 2px rgba(0, 0, 0, 0.3));\n",
              "      fill: #FFFFFF;\n",
              "    }\n",
              "  </style>\n",
              "\n",
              "      <script>\n",
              "        const buttonEl =\n",
              "          document.querySelector('#df-00716112-b4c6-46a3-b215-34f16fb774f2 button.colab-df-convert');\n",
              "        buttonEl.style.display =\n",
              "          google.colab.kernel.accessAllowed ? 'block' : 'none';\n",
              "\n",
              "        async function convertToInteractive(key) {\n",
              "          const element = document.querySelector('#df-00716112-b4c6-46a3-b215-34f16fb774f2');\n",
              "          const dataTable =\n",
              "            await google.colab.kernel.invokeFunction('convertToInteractive',\n",
              "                                                     [key], {});\n",
              "          if (!dataTable) return;\n",
              "\n",
              "          const docLinkHtml = 'Like what you see? Visit the ' +\n",
              "            '<a target=\"_blank\" href=https://colab.research.google.com/notebooks/data_table.ipynb>data table notebook</a>'\n",
              "            + ' to learn more about interactive tables.';\n",
              "          element.innerHTML = '';\n",
              "          dataTable['output_type'] = 'display_data';\n",
              "          await google.colab.output.renderOutput(dataTable, element);\n",
              "          const docLink = document.createElement('div');\n",
              "          docLink.innerHTML = docLinkHtml;\n",
              "          element.appendChild(docLink);\n",
              "        }\n",
              "      </script>\n",
              "    </div>\n",
              "  </div>\n",
              "  "
            ]
          },
          "metadata": {},
          "execution_count": 34
        }
      ]
    }
  ],
  "metadata": {
    "kernelspec": {
      "display_name": "Python 3",
      "language": "python",
      "name": "python3"
    },
    "language_info": {
      "codemirror_mode": {
        "name": "ipython",
        "version": 3
      },
      "file_extension": ".py",
      "mimetype": "text/x-python",
      "name": "python",
      "nbconvert_exporter": "python",
      "pygments_lexer": "ipython3",
      "version": "3.7.3"
    },
    "colab": {
      "provenance": []
    }
  },
  "nbformat": 4,
  "nbformat_minor": 0
}