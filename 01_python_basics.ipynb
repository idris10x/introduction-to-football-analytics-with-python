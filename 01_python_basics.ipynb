{
  "nbformat": 4,
  "nbformat_minor": 0,
  "metadata": {
    "colab": {
      "provenance": []
    },
    "kernelspec": {
      "name": "python3",
      "display_name": "Python 3"
    },
    "language_info": {
      "name": "python"
    }
  },
  "cells": [
    {
      "cell_type": "markdown",
      "source": [
        "## Numbers, Strings & Variables"
      ],
      "metadata": {
        "id": "pCqWJvcH-bGF"
      }
    },
    {
      "cell_type": "markdown",
      "source": [
        "Python uses numbers to count and accepts basic arthmetic operations on these numbers. Just like a calculator!:"
      ],
      "metadata": {
        "id": "OylkoFM_-llg"
      }
    },
    {
      "cell_type": "code",
      "execution_count": null,
      "metadata": {
        "colab": {
          "base_uri": "https://localhost:8080/"
        },
        "id": "fp3hfXMN6s-i",
        "outputId": "871c27f7-2f49-42d1-91f9-56a09960e7b7"
      },
      "outputs": [
        {
          "output_type": "execute_result",
          "data": {
            "text/plain": [
              "2"
            ]
          },
          "metadata": {},
          "execution_count": 1
        }
      ],
      "source": [
        "# addition\n",
        "1 + 1"
      ]
    },
    {
      "cell_type": "code",
      "source": [
        "# subtraction\n",
        "12 - 2"
      ],
      "metadata": {
        "colab": {
          "base_uri": "https://localhost:8080/"
        },
        "id": "n50omtn8_iOw",
        "outputId": "1264bc51-3335-482e-b561-69409d241620"
      },
      "execution_count": null,
      "outputs": [
        {
          "output_type": "execute_result",
          "data": {
            "text/plain": [
              "10"
            ]
          },
          "metadata": {},
          "execution_count": 2
        }
      ]
    },
    {
      "cell_type": "code",
      "source": [
        "# multiplication\n",
        "2 * 2"
      ],
      "metadata": {
        "colab": {
          "base_uri": "https://localhost:8080/"
        },
        "id": "MLgUpmdV_GL4",
        "outputId": "218e3fc9-a9cc-40a7-ba0a-a4b4f85d86a7"
      },
      "execution_count": null,
      "outputs": [
        {
          "output_type": "execute_result",
          "data": {
            "text/plain": [
              "4"
            ]
          },
          "metadata": {},
          "execution_count": 3
        }
      ]
    },
    {
      "cell_type": "code",
      "source": [
        "# division\n",
        "20/2"
      ],
      "metadata": {
        "colab": {
          "base_uri": "https://localhost:8080/"
        },
        "id": "ROiLrMYX_NQc",
        "outputId": "08e2227b-1eb5-4b2f-fbbc-40778cbd34a5"
      },
      "execution_count": null,
      "outputs": [
        {
          "output_type": "execute_result",
          "data": {
            "text/plain": [
              "10.0"
            ]
          },
          "metadata": {},
          "execution_count": 4
        }
      ]
    },
    {
      "cell_type": "code",
      "source": [
        "# raise to power\n",
        "2**3"
      ],
      "metadata": {
        "colab": {
          "base_uri": "https://localhost:8080/"
        },
        "id": "_1XAd3Zx_POl",
        "outputId": "52e93bbb-1253-458d-91fe-17ac268a94be"
      },
      "execution_count": null,
      "outputs": [
        {
          "output_type": "execute_result",
          "data": {
            "text/plain": [
              "8"
            ]
          },
          "metadata": {},
          "execution_count": 5
        }
      ]
    },
    {
      "cell_type": "code",
      "source": [
        "# modulo\n",
        "5%2"
      ],
      "metadata": {
        "colab": {
          "base_uri": "https://localhost:8080/"
        },
        "id": "WGu5Icyt_p3S",
        "outputId": "ab9091b9-0980-469d-c3b9-ee9f2e8cbf30"
      },
      "execution_count": null,
      "outputs": [
        {
          "output_type": "execute_result",
          "data": {
            "text/plain": [
              "1"
            ]
          },
          "metadata": {},
          "execution_count": 6
        }
      ]
    },
    {
      "cell_type": "markdown",
      "source": [
        "Python accepts a string of text with quotation marks around it. The opening and closing quotation marks must be consistent (single or double):"
      ],
      "metadata": {
        "id": "rQZSbD51_4Od"
      }
    },
    {
      "cell_type": "code",
      "source": [
        "\"Messi is a great player. His performance on the pitch and his stats are amazing\""
      ],
      "metadata": {
        "colab": {
          "base_uri": "https://localhost:8080/",
          "height": 35
        },
        "id": "e3503J4E_wt-",
        "outputId": "7868ecf1-395e-40bc-bb87-9fd7f690c6aa"
      },
      "execution_count": null,
      "outputs": [
        {
          "output_type": "execute_result",
          "data": {
            "text/plain": [
              "'Messi is a great player. His performance on the pitch and his stats are amazing'"
            ],
            "application/vnd.google.colaboratory.intrinsic+json": {
              "type": "string"
            }
          },
          "metadata": {},
          "execution_count": 7
        }
      ]
    },
    {
      "cell_type": "code",
      "source": [
        "'Messi is a great player. His performance on the pitch and his stats are amazing'"
      ],
      "metadata": {
        "colab": {
          "base_uri": "https://localhost:8080/",
          "height": 35
        },
        "id": "nO7gR05GAlQj",
        "outputId": "c2c64764-8ee6-48d4-ba46-4de74e6fa193"
      },
      "execution_count": null,
      "outputs": [
        {
          "output_type": "execute_result",
          "data": {
            "text/plain": [
              "'Messi is a great player. His performance on the pitch and his stats are amazing'"
            ],
            "application/vnd.google.colaboratory.intrinsic+json": {
              "type": "string"
            }
          },
          "metadata": {},
          "execution_count": 8
        }
      ]
    },
    {
      "cell_type": "markdown",
      "source": [
        "Python allows us to give numbers a name and placeholder for use in wider applications, and problem solving:"
      ],
      "metadata": {
        "id": "IufW4EHkBFUf"
      }
    },
    {
      "cell_type": "code",
      "source": [
        "messi_goals = 20\n",
        "messi_shots = 30"
      ],
      "metadata": {
        "id": "G9RgqtFgBRd2"
      },
      "execution_count": null,
      "outputs": []
    },
    {
      "cell_type": "markdown",
      "source": [
        "We can calculate Messi's conversion rate by dividing his goals by shots:"
      ],
      "metadata": {
        "id": "-j51gGJdBp-N"
      }
    },
    {
      "cell_type": "code",
      "source": [
        "messi_conversion = messi_goals/messi_shots\n",
        "messi_conversion"
      ],
      "metadata": {
        "colab": {
          "base_uri": "https://localhost:8080/"
        },
        "id": "OsP-SKPPBl4I",
        "outputId": "bb4a09a0-8a08-4402-d87f-9f1456e022fc"
      },
      "execution_count": null,
      "outputs": [
        {
          "output_type": "execute_result",
          "data": {
            "text/plain": [
              "0.6666666666666666"
            ]
          },
          "metadata": {},
          "execution_count": 10
        }
      ]
    },
    {
      "cell_type": "markdown",
      "source": [
        "We can combine strings and variables in a Python `print` statement:"
      ],
      "metadata": {
        "id": "AOKXkECvCura"
      }
    },
    {
      "cell_type": "code",
      "source": [
        "print(f'Messi is phenomenal with a conversion rate of {messi_conversion}')"
      ],
      "metadata": {
        "colab": {
          "base_uri": "https://localhost:8080/"
        },
        "id": "m0plSlHeCZgb",
        "outputId": "b60378d8-a8cc-4772-f9fb-b7ac5fe5411c"
      },
      "execution_count": null,
      "outputs": [
        {
          "output_type": "stream",
          "name": "stdout",
          "text": [
            "Messi is phenomenal with a conversion rate of 0.6666666666666666\n"
          ]
        }
      ]
    },
    {
      "cell_type": "markdown",
      "source": [
        "**Rules for Python variables:**\n",
        "\n",
        "* A variable name must start with a letter or the underscore character\n",
        "\n",
        "* A variable name cannot start with a number\n",
        "\n",
        "* A variable name can only contain alpha-numeric characters and underscores (A-z, 0-9, and _ )\n",
        "\n",
        "* Variable names are case-sensitive (messi, Messi and MESSI are three different variables)\n"
      ],
      "metadata": {
        "id": "bgvBVoFXCKX1"
      }
    },
    {
      "cell_type": "markdown",
      "source": [
        "## Lists"
      ],
      "metadata": {
        "id": "YrbTjq160X0x"
      }
    },
    {
      "cell_type": "markdown",
      "source": [
        "Lists are a way of grouping values; numbers, strings, variables or even another list. Let us create a list of some Liverpool FC players and their jersey numbers:"
      ],
      "metadata": {
        "id": "vqthPKYv08OM"
      }
    },
    {
      "cell_type": "code",
      "source": [
        "Player = ['M. Salah', 'D. Nunez', 'L. Diaz', 'V. Dijk', 'F. Carvalho', 'T. Arnold']\n",
        "Number = [11, 27, 23, 4, 28, 66]"
      ],
      "metadata": {
        "id": "OaIVpMBk0Z5m"
      },
      "execution_count": null,
      "outputs": []
    },
    {
      "cell_type": "markdown",
      "source": [
        "We can access a player's name and number using the index. Note that Python is zero-indexed."
      ],
      "metadata": {
        "id": "O5d3-fsG5Wps"
      }
    },
    {
      "cell_type": "code",
      "source": [
        "Player[0]"
      ],
      "metadata": {
        "colab": {
          "base_uri": "https://localhost:8080/",
          "height": 35
        },
        "id": "763r0bPj6bjK",
        "outputId": "65d4dfa1-d4ee-4208-ee42-959af491a5a7"
      },
      "execution_count": null,
      "outputs": [
        {
          "output_type": "execute_result",
          "data": {
            "text/plain": [
              "'M. Salah'"
            ],
            "application/vnd.google.colaboratory.intrinsic+json": {
              "type": "string"
            }
          },
          "metadata": {},
          "execution_count": 13
        }
      ]
    },
    {
      "cell_type": "code",
      "source": [
        "Number[0]"
      ],
      "metadata": {
        "colab": {
          "base_uri": "https://localhost:8080/"
        },
        "id": "r0OlkilV6inY",
        "outputId": "4cb4a094-45a9-44eb-fe0f-647713ebd152"
      },
      "execution_count": null,
      "outputs": [
        {
          "output_type": "execute_result",
          "data": {
            "text/plain": [
              "11"
            ]
          },
          "metadata": {},
          "execution_count": 14
        }
      ]
    },
    {
      "cell_type": "markdown",
      "source": [
        "Let's access Luiz Diaz name and number."
      ],
      "metadata": {
        "id": "CvyWf5Ha6m2y"
      }
    },
    {
      "cell_type": "code",
      "source": [
        "Player[2]"
      ],
      "metadata": {
        "colab": {
          "base_uri": "https://localhost:8080/",
          "height": 35
        },
        "id": "Ftp1P08M6kxI",
        "outputId": "659f7ceb-00c4-4af2-d47a-8193a8a3f130"
      },
      "execution_count": null,
      "outputs": [
        {
          "output_type": "execute_result",
          "data": {
            "text/plain": [
              "'L. Diaz'"
            ],
            "application/vnd.google.colaboratory.intrinsic+json": {
              "type": "string"
            }
          },
          "metadata": {},
          "execution_count": 15
        }
      ]
    },
    {
      "cell_type": "code",
      "source": [
        "Number[2]"
      ],
      "metadata": {
        "colab": {
          "base_uri": "https://localhost:8080/"
        },
        "id": "iFrh5SoN6vPa",
        "outputId": "ee1aee59-d663-40a5-8c35-b871585bbe2e"
      },
      "execution_count": null,
      "outputs": [
        {
          "output_type": "execute_result",
          "data": {
            "text/plain": [
              "23"
            ]
          },
          "metadata": {},
          "execution_count": 16
        }
      ]
    },
    {
      "cell_type": "markdown",
      "source": [
        "'Range' is a function that generates a series of numbers between two points. By default, it starts at 0 and goes to whatever number we give it."
      ],
      "metadata": {
        "id": "6zgwrIhO9UVT"
      }
    },
    {
      "cell_type": "code",
      "source": [
        "list(range(10))"
      ],
      "metadata": {
        "colab": {
          "base_uri": "https://localhost:8080/"
        },
        "id": "7MPhQZk39ToM",
        "outputId": "215fea17-0089-46cc-bc76-fd358f2574a9"
      },
      "execution_count": null,
      "outputs": [
        {
          "output_type": "execute_result",
          "data": {
            "text/plain": [
              "[0, 1, 2, 3, 4, 5, 6, 7, 8, 9]"
            ]
          },
          "metadata": {},
          "execution_count": 17
        }
      ]
    },
    {
      "cell_type": "code",
      "source": [
        "# two arguments in range()\n",
        "# give me all numbers between these two\n",
        "list(range(5,10))"
      ],
      "metadata": {
        "colab": {
          "base_uri": "https://localhost:8080/"
        },
        "id": "sXB4hhHy943R",
        "outputId": "83cbd8d2-890e-40ef-8ddb-7977a7d41972"
      },
      "execution_count": null,
      "outputs": [
        {
          "output_type": "execute_result",
          "data": {
            "text/plain": [
              "[5, 6, 7, 8, 9]"
            ]
          },
          "metadata": {},
          "execution_count": 18
        }
      ]
    },
    {
      "cell_type": "code",
      "source": [
        "# three arguments in range()\n",
        "# give me all numbers between the first two, in steps of the third number\n",
        "list(range(0,10,2))"
      ],
      "metadata": {
        "colab": {
          "base_uri": "https://localhost:8080/"
        },
        "id": "wB9hnorl-Mmm",
        "outputId": "b35f050a-a2ab-4e23-bf03-76f559b6c6cb"
      },
      "execution_count": null,
      "outputs": [
        {
          "output_type": "execute_result",
          "data": {
            "text/plain": [
              "[0, 2, 4, 6, 8]"
            ]
          },
          "metadata": {},
          "execution_count": 19
        }
      ]
    },
    {
      "cell_type": "markdown",
      "source": [
        "We can use the `append()` method to add a new item to the list:"
      ],
      "metadata": {
        "id": "qLadOw3d-5IN"
      }
    },
    {
      "cell_type": "code",
      "source": [
        "Player.append('H. Elliot')"
      ],
      "metadata": {
        "id": "Q3Zm13w2_HO5"
      },
      "execution_count": null,
      "outputs": []
    },
    {
      "cell_type": "code",
      "source": [
        "Player"
      ],
      "metadata": {
        "colab": {
          "base_uri": "https://localhost:8080/"
        },
        "id": "0va3d5WF_e4u",
        "outputId": "db950392-7a9d-4f85-9f82-f2edc59dccff"
      },
      "execution_count": null,
      "outputs": [
        {
          "output_type": "execute_result",
          "data": {
            "text/plain": [
              "['M. Salah',\n",
              " 'D. Nunez',\n",
              " 'L. Diaz',\n",
              " 'V. Dijk',\n",
              " 'F. Carvalho',\n",
              " 'T. Arnold',\n",
              " 'H. Elliot']"
            ]
          },
          "metadata": {},
          "execution_count": 21
        }
      ]
    },
    {
      "cell_type": "code",
      "source": [
        "Number.append(19)"
      ],
      "metadata": {
        "id": "t_AnDT9d_i0C"
      },
      "execution_count": null,
      "outputs": []
    },
    {
      "cell_type": "code",
      "source": [
        "Number"
      ],
      "metadata": {
        "colab": {
          "base_uri": "https://localhost:8080/"
        },
        "id": "dLN9gQ6n_pKx",
        "outputId": "ad242b45-43eb-455d-8052-0b95ffaa4998"
      },
      "execution_count": null,
      "outputs": [
        {
          "output_type": "execute_result",
          "data": {
            "text/plain": [
              "[11, 27, 23, 4, 28, 66, 19]"
            ]
          },
          "metadata": {},
          "execution_count": 23
        }
      ]
    },
    {
      "cell_type": "markdown",
      "source": [
        "## Dictionaries"
      ],
      "metadata": {
        "id": "OXoVLPKFAx4f"
      }
    },
    {
      "cell_type": "markdown",
      "source": [
        "Dictionaries are another way of grouping values. Unlike `[lists]`, `{dictionaries}` make use of curly brackets. Within the dictionary, we make use `'key':'value'` to assign information. Let us create a database of Liverpool players:"
      ],
      "metadata": {
        "id": "R7kmQOi0BJIw"
      }
    },
    {
      "cell_type": "code",
      "source": [
        "Liverpool = {\n",
        "              'M. Salah':11,\n",
        "              'D. Nunez':27,\n",
        "              'L. Diaz':23,\n",
        "              'V. Dijk':4,\n",
        "              'F. Carvalho':28,\n",
        "              'T. Arnold':66\n",
        "}"
      ],
      "metadata": {
        "id": "2neI7aWkA1VQ"
      },
      "execution_count": null,
      "outputs": []
    },
    {
      "cell_type": "markdown",
      "source": [
        "To access values in a dictionary, we simply use square brackets after the variable and the key we wish to get the value. Let us get the jersey number for Mohamed Salah:"
      ],
      "metadata": {
        "id": "0z9LHdxXHAlb"
      }
    },
    {
      "cell_type": "code",
      "source": [
        "Liverpool['M. Salah']"
      ],
      "metadata": {
        "colab": {
          "base_uri": "https://localhost:8080/"
        },
        "id": "5x_iBtbHHtGo",
        "outputId": "dc3504fb-c928-4630-fe1c-79e92d3a0893"
      },
      "execution_count": null,
      "outputs": [
        {
          "output_type": "execute_result",
          "data": {
            "text/plain": [
              "11"
            ]
          },
          "metadata": {},
          "execution_count": 25
        }
      ]
    },
    {
      "cell_type": "markdown",
      "source": [
        "Assigning new values to keys, or entirely new key-value pairs is the same as assigning a variable:"
      ],
      "metadata": {
        "id": "hyWny_fYJFJl"
      }
    },
    {
      "cell_type": "code",
      "source": [
        "Liverpool['H. Elliot'] = 19"
      ],
      "metadata": {
        "id": "FSz_xHvrJjr1"
      },
      "execution_count": null,
      "outputs": []
    },
    {
      "cell_type": "code",
      "source": [
        "Liverpool"
      ],
      "metadata": {
        "colab": {
          "base_uri": "https://localhost:8080/"
        },
        "id": "I4orMnYFJu7P",
        "outputId": "fd359ec9-6511-4182-f8c0-1042e70258b2"
      },
      "execution_count": null,
      "outputs": [
        {
          "output_type": "execute_result",
          "data": {
            "text/plain": [
              "{'M. Salah': 11,\n",
              " 'D. Nunez': 27,\n",
              " 'L. Diaz': 23,\n",
              " 'V. Dijk': 4,\n",
              " 'F. Carvalho': 28,\n",
              " 'T. Arnold': 66,\n",
              " 'H. Elliot': 19}"
            ]
          },
          "metadata": {},
          "execution_count": 27
        }
      ]
    },
    {
      "cell_type": "markdown",
      "source": [
        "We can remove a key-value pair with `'del'`:"
      ],
      "metadata": {
        "id": "DGk_S8TeJ-22"
      }
    },
    {
      "cell_type": "code",
      "source": [
        "del Liverpool['D. Nunez']"
      ],
      "metadata": {
        "id": "PcxzOUKnKI1E"
      },
      "execution_count": null,
      "outputs": []
    },
    {
      "cell_type": "code",
      "source": [
        "Liverpool"
      ],
      "metadata": {
        "id": "e0_aoq00Kg7n",
        "outputId": "939527cc-1ea8-4cb6-d821-197b1007c484",
        "colab": {
          "base_uri": "https://localhost:8080/"
        }
      },
      "execution_count": null,
      "outputs": [
        {
          "output_type": "execute_result",
          "data": {
            "text/plain": [
              "{'M. Salah': 11,\n",
              " 'L. Diaz': 23,\n",
              " 'V. Dijk': 4,\n",
              " 'F. Carvalho': 28,\n",
              " 'T. Arnold': 66,\n",
              " 'H. Elliot': 19}"
            ]
          },
          "metadata": {},
          "execution_count": 29
        }
      ]
    },
    {
      "cell_type": "markdown",
      "source": [
        "## Comparisons and Logic"
      ],
      "metadata": {
        "id": "YaxHOeNcDs46"
      }
    },
    {
      "cell_type": "markdown",
      "source": [
        "Python allows the use of comparison operators that will return either 'True' or 'False'"
      ],
      "metadata": {
        "id": "nx2Y53KFD6DC"
      }
    },
    {
      "cell_type": "code",
      "source": [
        "# is two greater than one?\n",
        "2 > 1"
      ],
      "metadata": {
        "colab": {
          "base_uri": "https://localhost:8080/"
        },
        "id": "IRRotl9SDwe8",
        "outputId": "5dbe1933-01ca-4d27-ced6-11e97370de98"
      },
      "execution_count": null,
      "outputs": [
        {
          "output_type": "execute_result",
          "data": {
            "text/plain": [
              "True"
            ]
          },
          "metadata": {},
          "execution_count": 30
        }
      ]
    },
    {
      "cell_type": "code",
      "source": [
        "# is two lesser than one?\n",
        "2 < 1"
      ],
      "metadata": {
        "colab": {
          "base_uri": "https://localhost:8080/"
        },
        "id": "P9dhrgGCEYI9",
        "outputId": "8b79066e-55ec-46e4-d3e1-c598569b2429"
      },
      "execution_count": null,
      "outputs": [
        {
          "output_type": "execute_result",
          "data": {
            "text/plain": [
              "False"
            ]
          },
          "metadata": {},
          "execution_count": 31
        }
      ]
    },
    {
      "cell_type": "code",
      "source": [
        "# is 50 less than or equal to 55?\n",
        "50 <= 55"
      ],
      "metadata": {
        "colab": {
          "base_uri": "https://localhost:8080/"
        },
        "id": "UkyMBNYKEirA",
        "outputId": "8ee0f38c-678f-4eda-f3b5-345aa8deef57"
      },
      "execution_count": null,
      "outputs": [
        {
          "output_type": "execute_result",
          "data": {
            "text/plain": [
              "True"
            ]
          },
          "metadata": {},
          "execution_count": 32
        }
      ]
    },
    {
      "cell_type": "code",
      "source": [
        "# is 22 equals to 22?\n",
        "22 == 22"
      ],
      "metadata": {
        "colab": {
          "base_uri": "https://localhost:8080/"
        },
        "id": "6VCao6NNEy8A",
        "outputId": "6239d29f-2263-4f74-b18c-bc074fad7cdc"
      },
      "execution_count": null,
      "outputs": [
        {
          "output_type": "execute_result",
          "data": {
            "text/plain": [
              "True"
            ]
          },
          "metadata": {},
          "execution_count": 33
        }
      ]
    },
    {
      "cell_type": "markdown",
      "source": [
        "Let's compare two variables"
      ],
      "metadata": {
        "id": "eEZwMlpbFAAZ"
      }
    },
    {
      "cell_type": "code",
      "source": [
        "Messi = 99\n",
        "Hazard = 86"
      ],
      "metadata": {
        "id": "ShRfXJTyFEnX"
      },
      "execution_count": null,
      "outputs": []
    },
    {
      "cell_type": "code",
      "source": [
        "Messi > Hazard"
      ],
      "metadata": {
        "colab": {
          "base_uri": "https://localhost:8080/"
        },
        "id": "kFIUv7IpFMfA",
        "outputId": "d5f29907-1528-4155-fdee-97916e035c98"
      },
      "execution_count": null,
      "outputs": [
        {
          "output_type": "execute_result",
          "data": {
            "text/plain": [
              "True"
            ]
          },
          "metadata": {},
          "execution_count": 35
        }
      ]
    },
    {
      "cell_type": "markdown",
      "source": [
        "Logic operators allows us to use multiple comparisons together. Let's assume we have the option of signing either Messi or Hazard on a budget. We can write a code to evaluate if we can afford the better player:"
      ],
      "metadata": {
        "id": "Ijw5KHIeFWDD"
      }
    },
    {
      "cell_type": "code",
      "source": [
        "Budget = 500000\n",
        "MessiCost = 400000"
      ],
      "metadata": {
        "id": "_awMlNF-F4R4"
      },
      "execution_count": null,
      "outputs": []
    },
    {
      "cell_type": "code",
      "source": [
        "(Messi > Hazard) & (Budget >= MessiCost)"
      ],
      "metadata": {
        "colab": {
          "base_uri": "https://localhost:8080/"
        },
        "id": "RiWmecFPV3RT",
        "outputId": "aca4f751-ae7e-439b-bfa0-ed751d6b801e"
      },
      "execution_count": null,
      "outputs": [
        {
          "output_type": "execute_result",
          "data": {
            "text/plain": [
              "True"
            ]
          },
          "metadata": {},
          "execution_count": 37
        }
      ]
    },
    {
      "cell_type": "markdown",
      "source": [
        "Messi will get a €500,000 bonus if he scores more than 20 goals or makes at least 15 assists. Let's check if he did."
      ],
      "metadata": {
        "id": "zULdDLG4WWMS"
      }
    },
    {
      "cell_type": "code",
      "source": [
        "MessiGoals = 19\n",
        "MessiAssists = 16"
      ],
      "metadata": {
        "id": "hEBY_w0CXLDe"
      },
      "execution_count": null,
      "outputs": []
    },
    {
      "cell_type": "code",
      "source": [
        "(MessiGoals > 20) | (MessiAssists >= 15)"
      ],
      "metadata": {
        "colab": {
          "base_uri": "https://localhost:8080/"
        },
        "id": "lY2DvyvKcFoG",
        "outputId": "a94e15bb-fd7b-4fa7-9701-6df3fe8b414a"
      },
      "execution_count": null,
      "outputs": [
        {
          "output_type": "execute_result",
          "data": {
            "text/plain": [
              "True"
            ]
          },
          "metadata": {},
          "execution_count": 39
        }
      ]
    },
    {
      "cell_type": "markdown",
      "source": [
        "Messi gets a bonus! But, his teammate Suarez has a bit of temper. He will get a bonus if he scores more than 5 goals, or makes 5 assists AND receives fewer than 3 red cards. Let's check if he did."
      ],
      "metadata": {
        "id": "ysIYhgq0d65u"
      }
    },
    {
      "cell_type": "code",
      "source": [
        "SuarezGoals = 5\n",
        "SuarezAssists = 10\n",
        "SuarezRedCards = 3"
      ],
      "metadata": {
        "id": "b3J5COS_fIRz"
      },
      "execution_count": null,
      "outputs": []
    },
    {
      "cell_type": "code",
      "source": [
        "(SuarezGoals > 5) or ((SuarezAssists>=5) and (SuarezRedCards<3))"
      ],
      "metadata": {
        "colab": {
          "base_uri": "https://localhost:8080/"
        },
        "id": "rsMBjG7YfluP",
        "outputId": "182c02a3-08d0-4498-d879-c25446a36d95"
      },
      "execution_count": null,
      "outputs": [
        {
          "output_type": "execute_result",
          "data": {
            "text/plain": [
              "False"
            ]
          },
          "metadata": {},
          "execution_count": 41
        }
      ]
    },
    {
      "cell_type": "markdown",
      "source": [
        "## If Statements"
      ],
      "metadata": {
        "id": "N-AUO3uBf-S0"
      }
    },
    {
      "cell_type": "markdown",
      "source": [
        "Python is able to use `if` statements to evaluate information and act accordingly."
      ],
      "metadata": {
        "id": "E5ugIFEMgIZT"
      }
    },
    {
      "cell_type": "code",
      "source": [
        "if 2 > 1:\n",
        "  print('Done!')"
      ],
      "metadata": {
        "colab": {
          "base_uri": "https://localhost:8080/"
        },
        "id": "po6oMJolgDiZ",
        "outputId": "0846d014-b95b-4cd7-a7d2-dc6e74907b52"
      },
      "execution_count": null,
      "outputs": [
        {
          "output_type": "stream",
          "name": "stdout",
          "text": [
            "Done!\n"
          ]
        }
      ]
    },
    {
      "cell_type": "markdown",
      "source": [
        "We can add a final condition with `else`:"
      ],
      "metadata": {
        "id": "webBO5i-g0nx"
      }
    },
    {
      "cell_type": "code",
      "source": [
        "if 1 > 2:\n",
        "  print('Done')\n",
        "else:\n",
        "  print('The statement is false')"
      ],
      "metadata": {
        "colab": {
          "base_uri": "https://localhost:8080/"
        },
        "id": "GjXU8Uyigqc3",
        "outputId": "3c92c115-689c-4617-e070-a5030861c890"
      },
      "execution_count": null,
      "outputs": [
        {
          "output_type": "stream",
          "name": "stdout",
          "text": [
            "The statement is false\n"
          ]
        }
      ]
    },
    {
      "cell_type": "markdown",
      "source": [
        "In the year 3023, Varcelona decides to hire a robot head coach. Through games, RoboCoach decides to tell his players to attack more or less depending on score."
      ],
      "metadata": {
        "id": "vObKBj6vhbV3"
      }
    },
    {
      "cell_type": "code",
      "source": [
        "VarcelonaScore = 0\n",
        "OpponentScore = 0"
      ],
      "metadata": {
        "id": "aoBd9Shsh1Zv"
      },
      "execution_count": null,
      "outputs": []
    },
    {
      "cell_type": "code",
      "source": [
        "if VarcelonaScore < OpponentScore:\n",
        "  print('Full Attack ON!')\n",
        "elif VarcelonaScore == OpponentScore:\n",
        "  print('Stay alert, but exploit any opportunity')\n",
        "else:\n",
        "  print('All men on the ball')"
      ],
      "metadata": {
        "colab": {
          "base_uri": "https://localhost:8080/"
        },
        "id": "XD86csogiAst",
        "outputId": "8405a654-64da-4107-ee1f-f8926730a58e"
      },
      "execution_count": null,
      "outputs": [
        {
          "output_type": "stream",
          "name": "stdout",
          "text": [
            "Stay alert, but exploit any opportunity\n"
          ]
        }
      ]
    },
    {
      "cell_type": "markdown",
      "source": [
        "##For Loops"
      ],
      "metadata": {
        "id": "rmZvBqHCmIHd"
      }
    },
    {
      "cell_type": "markdown",
      "source": [
        "Loops are used automate repetitve tasks. For loop is used for iterating over a sequence (a list, a dictionary, or a string). Let's us welcome all players in our previous list. We can write a for loop that iterates over the list once, instead of calling the index one-by-one:"
      ],
      "metadata": {
        "id": "PIvRTCpWtuKX"
      }
    },
    {
      "cell_type": "code",
      "source": [
        "for player in Player:\n",
        "  print(f'Welcome, {player}. You will never walk alone.')"
      ],
      "metadata": {
        "colab": {
          "base_uri": "https://localhost:8080/"
        },
        "id": "X0DiAysFrZce",
        "outputId": "669e4ece-7972-44b6-893d-9d4ef07578f5"
      },
      "execution_count": null,
      "outputs": [
        {
          "output_type": "stream",
          "name": "stdout",
          "text": [
            "Welcome, M. Salah. You will never walk alone.\n",
            "Welcome, D. Nunez. You will never walk alone.\n",
            "Welcome, L. Diaz. You will never walk alone.\n",
            "Welcome, V. Dijk. You will never walk alone.\n",
            "Welcome, F. Carvalho. You will never walk alone.\n",
            "Welcome, T. Arnold. You will never walk alone.\n",
            "Welcome, H. Elliot. You will never walk alone.\n"
          ]
        }
      ]
    },
    {
      "cell_type": "markdown",
      "source": [
        "## While Loops"
      ],
      "metadata": {
        "id": "HxivojdSvlXx"
      }
    },
    {
      "cell_type": "markdown",
      "source": [
        "While Loops runs until the statement after `'while'` becomes false. It is useful when there is an initial condition we wish to set to `True`. Let us count the number of minutes played in a football match:"
      ],
      "metadata": {
        "id": "KYfUon9RvNJF"
      }
    },
    {
      "cell_type": "code",
      "source": [
        "minutesPlayed = 0\n",
        "\n",
        "while minutesPlayed < 90:\n",
        "  minutesPlayed += 1\n",
        "\n",
        "print(f'{minutesPlayed} minutes played, the match is over!')"
      ],
      "metadata": {
        "colab": {
          "base_uri": "https://localhost:8080/"
        },
        "id": "UNX5jsXGw0mn",
        "outputId": "ae7ee3c4-e937-483a-fb24-25bc7abab0bc"
      },
      "execution_count": null,
      "outputs": [
        {
          "output_type": "stream",
          "name": "stdout",
          "text": [
            "90 minutes played, the match is over!\n"
          ]
        }
      ]
    },
    {
      "cell_type": "markdown",
      "source": [
        "The structure of a while loop is simple, but we have to be careful when using it. If the while statement never turns to `'False'`, we will create an infinite loop and break the program."
      ],
      "metadata": {
        "id": "-FuFHAcUyEvb"
      }
    },
    {
      "cell_type": "markdown",
      "source": [
        "## Functions"
      ],
      "metadata": {
        "id": "aWOJ8bTdytLK"
      }
    },
    {
      "cell_type": "markdown",
      "source": [
        "A function is a block of code that runs when it is called. We can pass arguments and parameters into a function. In Python a function is defined using the `def` keyword:"
      ],
      "metadata": {
        "id": "IlhKfPAoy9HT"
      }
    },
    {
      "cell_type": "code",
      "source": [
        "def square(number):\n",
        "  return number*number"
      ],
      "metadata": {
        "id": "3ohdz2UQyO54"
      },
      "execution_count": null,
      "outputs": []
    },
    {
      "cell_type": "code",
      "source": [
        "square(4)"
      ],
      "metadata": {
        "colab": {
          "base_uri": "https://localhost:8080/"
        },
        "id": "mpBChmauzztM",
        "outputId": "381de5ee-6baa-4c3d-f903-19c02c3c0ba6"
      },
      "execution_count": null,
      "outputs": [
        {
          "output_type": "execute_result",
          "data": {
            "text/plain": [
              "16"
            ]
          },
          "metadata": {},
          "execution_count": 52
        }
      ]
    },
    {
      "cell_type": "markdown",
      "source": [
        "We have just created a function that can square any number."
      ],
      "metadata": {
        "id": "ST3zlbogz6IH"
      }
    }
  ]
}